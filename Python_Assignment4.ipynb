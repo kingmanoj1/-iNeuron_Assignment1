{
 "cells": [
  {
   "cell_type": "markdown",
   "metadata": {},
   "source": [
    "## Write a Python Program(with class concepts) to find the area of the triangle using the below\n",
    "## formula.\n",
    "## area = (s*(s-a)*(s-b)*(s-c)) ** 0.5"
   ]
  },
  {
   "cell_type": "code",
   "execution_count": 4,
   "metadata": {},
   "outputs": [
    {
     "name": "stdout",
     "output_type": "stream",
     "text": [
      "enter value of s 20\n",
      "enter value of a 10\n",
      "enter value of b 10\n",
      "enter value of c 10\n",
      "141.4213562373095\n"
     ]
    }
   ],
   "source": [
    "# formula- (s*(s-a)*(s-b)*(s-c)) ** 0.5\n",
    "class parent_class:\n",
    "    def __init__(self):\n",
    "        self.s=''\n",
    "        self.a=''\n",
    "        self.b=''\n",
    "        self.c=''\n",
    "\n",
    "    def get_input(self):\n",
    "        self.s = int(input(\"enter value of s \"))\n",
    "        self.a = int(input(\"enter value of a \"))\n",
    "        self.b = int(input(\"enter value of b \"))\n",
    "        self.c = int(input(\"enter value of c \"))\n",
    "        \n",
    "        \n",
    "class sub_class(parent_class):\n",
    "    def __init__(self):\n",
    "        super(sub_class, self).get_input()    \n",
    "    def calculate(self):\n",
    "        out = (self.s*(self.s-self.a)*(self.s-self.b)*(self.s-self.c)) ** 0.5\n",
    "        print(out)\n",
    "        \n",
    "obj = sub_class()\n",
    "obj.calculate()"
   ]
  },
  {
   "cell_type": "markdown",
   "metadata": {},
   "source": [
    "## Write a function filter_long_words() that takes a list of words and an integer n and returns the list of words that are longer than n."
   ]
  },
  {
   "cell_type": "code",
   "execution_count": 6,
   "metadata": {},
   "outputs": [
    {
     "name": "stdout",
     "output_type": "stream",
     "text": [
      "['iNeuron', 'Sudhanshu']\n"
     ]
    }
   ],
   "source": [
    "def filter_long_words(words, n):\n",
    "    return [item for item in words if len(item)>n]\n",
    "\n",
    "\n",
    "words = ['manoj', 'bhatt', 'iNeuron', 'in', 'krish', 'Sudhanshu']\n",
    "print(filter_long_words(words, n=5))"
   ]
  },
  {
   "cell_type": "code",
   "execution_count": null,
   "metadata": {},
   "outputs": [],
   "source": []
  },
  {
   "cell_type": "markdown",
   "metadata": {},
   "source": [
    "## Write a Python program using function concept that maps list of words into a list of integers representing the lengths of the corresponding words."
   ]
  },
  {
   "cell_type": "code",
   "execution_count": 7,
   "metadata": {},
   "outputs": [
    {
     "name": "stdout",
     "output_type": "stream",
     "text": [
      "[2, 3, 4]\n"
     ]
    }
   ],
   "source": [
    "def word_to_int(lst):\n",
    "    return [len(i) for i in lst]\n",
    "\n",
    "\n",
    "lst = [\"ab\",\"cde\",\"erty\"]\n",
    "print(word_to_int(lst))\n"
   ]
  },
  {
   "cell_type": "code",
   "execution_count": null,
   "metadata": {},
   "outputs": [],
   "source": []
  },
  {
   "cell_type": "markdown",
   "metadata": {},
   "source": [
    "## Write a Python function which takes a character (i.e. a string of length 1) and returns True if it is a vowel, False otherwise."
   ]
  },
  {
   "cell_type": "code",
   "execution_count": 8,
   "metadata": {},
   "outputs": [
    {
     "name": "stdout",
     "output_type": "stream",
     "text": [
      "enter character to check vowel or not= f\n",
      "False\n"
     ]
    }
   ],
   "source": [
    "vowel = [\"a\", \"e\", \"i\", \"o\", \"u\"]\n",
    "def check_vowel(c):\n",
    "    if c in vowel:\n",
    "        return True\n",
    "    else:\n",
    "        return False\n",
    "    \n",
    "val = input(\"enter character to check vowel or not= \")\n",
    "print(check_vowel(val))"
   ]
  },
  {
   "cell_type": "code",
   "execution_count": null,
   "metadata": {},
   "outputs": [],
   "source": []
  },
  {
   "cell_type": "code",
   "execution_count": null,
   "metadata": {},
   "outputs": [],
   "source": []
  }
 ],
 "metadata": {
  "kernelspec": {
   "display_name": "Python 3",
   "language": "python",
   "name": "python3"
  },
  "language_info": {
   "codemirror_mode": {
    "name": "ipython",
    "version": 3
   },
   "file_extension": ".py",
   "mimetype": "text/x-python",
   "name": "python",
   "nbconvert_exporter": "python",
   "pygments_lexer": "ipython3",
   "version": "3.8.5"
  }
 },
 "nbformat": 4,
 "nbformat_minor": 4
}
