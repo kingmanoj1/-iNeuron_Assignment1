{
 "cells": [
  {
   "cell_type": "code",
   "execution_count": 4,
   "id": "severe-inclusion",
   "metadata": {},
   "outputs": [],
   "source": [
    "import numpy as np"
   ]
  },
  {
   "cell_type": "code",
   "execution_count": 11,
   "id": "growing-delivery",
   "metadata": {},
   "outputs": [],
   "source": [
    "def moving_average(a, n):\n",
    "    cal_data = np.cumsum(a, dtype=float)\n",
    "    cal_data[n:] = cal_data[n:] - cal_data[:-n]\n",
    "    ma = cal_data[n - 1:] / n\n",
    "    print(ma)\n",
    "    print(\"\\n n-k+1 = \",len(ma)) #n=len(a), k=3 or n\n",
    "\n"
   ]
  },
  {
   "cell_type": "code",
   "execution_count": 12,
   "id": "posted-assignment",
   "metadata": {},
   "outputs": [
    {
     "name": "stdout",
     "output_type": "stream",
     "text": [
      "[  5.           4.66666667   5.66666667   6.66666667   9.66666667\n",
      "  28.66666667  49.33333333  72.66666667  84.          93.33333333\n",
      " 116.33333333]\n",
      "\n",
      " n-k+1 =  11\n"
     ]
    }
   ],
   "source": [
    "a = [3, 5, 7, 2, 8, 10, 11, 65, 72, 81, 99, 100, 150]\n",
    "w = 3\n",
    "moving_average(a, w)\n"
   ]
  },
  {
   "cell_type": "code",
   "execution_count": null,
   "id": "waiting-comment",
   "metadata": {},
   "outputs": [],
   "source": []
  }
 ],
 "metadata": {
  "kernelspec": {
   "display_name": "Python 3",
   "language": "python",
   "name": "python3"
  },
  "language_info": {
   "codemirror_mode": {
    "name": "ipython",
    "version": 3
   },
   "file_extension": ".py",
   "mimetype": "text/x-python",
   "name": "python",
   "nbconvert_exporter": "python",
   "pygments_lexer": "ipython3",
   "version": "3.7.6"
  }
 },
 "nbformat": 4,
 "nbformat_minor": 5
}
